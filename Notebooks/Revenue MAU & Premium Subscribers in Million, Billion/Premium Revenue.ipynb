{
 "cells": [
  {
   "cell_type": "code",
   "execution_count": null,
   "metadata": {},
   "outputs": [],
   "source": [
    "import pandas as pd\n",
    "import matplotlib.pyplot as plt\n",
    "import re\n",
    "\n",
    "# Load CSV file\n",
    "df = pd.read_csv('Premium Revenue.csv', header=None, names=[\"RawData\"])\n",
    "\n",
    "# Extract year and revenue using regex\n",
    "def extract_data(row):\n",
    "    match = re.match(r\"(\\d{4})\\s*=\\s*([\\d\\.]+)\\s*(Million|Billion)\", row)\n",
    "    if match:\n",
    "        year = int(match.group(1))\n",
    "        revenue = float(match.group(2))\n",
    "        if match.group(3) == \"Billion\":\n",
    "            revenue *= 1000  # Convert Billion to Million for consistency\n",
    "        return year, revenue\n",
    "    return None, None\n",
    "\n",
    "df[['Year', 'Revenue']] = df['RawData'].apply(lambda x: pd.Series(extract_data(x)))\n",
    "df = df.dropna().astype({'Year': 'int', 'Revenue': 'float'})\n",
    "\n",
    "# Define custom colors\n",
    "custom_colors = ['#ff9999', '#66b3ff', '#99ff99', '#ffcc99', '#c2c2f0', '#ffb3e6']\n",
    "\n",
    "# Function to display values in EUR\n",
    "def value_format(pct, all_values):\n",
    "    absolute = int(pct/100. * sum(all_values))\n",
    "    return f\"€{absolute:,}M\"\n",
    "\n",
    "# Create a pie chart\n",
    "fig, ax = plt.subplots()\n",
    "ax.pie(df['Revenue'], labels=df['Year'], autopct=lambda pct: value_format(pct, df['Revenue']),\n",
    "       colors=custom_colors, startangle=140)\n",
    "ax.legend(title=\"Years\")\n",
    "plt.title(\"Premium Revenue Distribution from 2019 to 2024 (in Million EUR)\")\n",
    "plt.show()\n"
   ]
  }
 ],
 "metadata": {
  "language_info": {
   "name": "python"
  }
 },
 "nbformat": 4,
 "nbformat_minor": 2
}
