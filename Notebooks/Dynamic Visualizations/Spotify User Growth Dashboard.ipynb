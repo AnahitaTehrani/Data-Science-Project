{
 "cells": [
  {
   "cell_type": "markdown",
   "metadata": {},
   "source": [
    "Spotify User Growth Dashboard:"
   ]
  },
  {
   "cell_type": "code",
   "execution_count": null,
   "metadata": {},
   "outputs": [
    {
     "name": "stderr",
     "output_type": "stream",
     "text": [
      "2025-03-25 11:52:20.679 WARNING streamlit.runtime.scriptrunner_utils.script_run_context: Thread 'MainThread': missing ScriptRunContext! This warning can be ignored when running in bare mode.\n",
      "2025-03-25 11:52:21.460 \n",
      "  \u001b[33m\u001b[1mWarning:\u001b[0m to view this Streamlit app on a browser, run it with the following\n",
      "  command:\n",
      "\n",
      "    streamlit run C:\\Users\\Anahi\\AppData\\Local\\Packages\\PythonSoftwareFoundation.Python.3.12_qbz5n2kfra8p0\\LocalCache\\local-packages\\Python312\\site-packages\\ipykernel_launcher.py [ARGUMENTS]\n",
      "2025-03-25 11:52:21.463 Thread 'MainThread': missing ScriptRunContext! This warning can be ignored when running in bare mode.\n",
      "2025-03-25 11:52:21.463 Thread 'MainThread': missing ScriptRunContext! This warning can be ignored when running in bare mode.\n",
      "2025-03-25 11:52:21.464 Thread 'MainThread': missing ScriptRunContext! This warning can be ignored when running in bare mode.\n",
      "2025-03-25 11:52:21.465 Thread 'MainThread': missing ScriptRunContext! This warning can be ignored when running in bare mode.\n",
      "2025-03-25 11:52:21.467 Thread 'MainThread': missing ScriptRunContext! This warning can be ignored when running in bare mode.\n",
      "2025-03-25 11:52:21.468 Session state does not function when running a script without `streamlit run`\n",
      "2025-03-25 11:52:21.469 Thread 'MainThread': missing ScriptRunContext! This warning can be ignored when running in bare mode.\n",
      "2025-03-25 11:52:21.471 Thread 'MainThread': missing ScriptRunContext! This warning can be ignored when running in bare mode.\n"
     ]
    },
    {
     "ename": "NameError",
     "evalue": "name 'pd' is not defined",
     "output_type": "error",
     "traceback": [
      "\u001b[1;31m---------------------------------------------------------------------------\u001b[0m",
      "\u001b[1;31mNameError\u001b[0m                                 Traceback (most recent call last)",
      "Cell \u001b[1;32mIn[1], line 17\u001b[0m\n\u001b[0;32m     11\u001b[0m years \u001b[38;5;241m=\u001b[39m [\u001b[38;5;241m2019\u001b[39m, \u001b[38;5;241m2020\u001b[39m, \u001b[38;5;241m2021\u001b[39m, \u001b[38;5;241m2022\u001b[39m, \u001b[38;5;241m2023\u001b[39m, \u001b[38;5;241m2024\u001b[39m]\n\u001b[0;32m     12\u001b[0m data \u001b[38;5;241m=\u001b[39m {\n\u001b[0;32m     13\u001b[0m     \u001b[38;5;124m\"\u001b[39m\u001b[38;5;124mAd-Supported Users\u001b[39m\u001b[38;5;124m\"\u001b[39m: [\u001b[38;5;241m546\u001b[39m, \u001b[38;5;241m717\u001b[39m, \u001b[38;5;241m874\u001b[39m, \u001b[38;5;241m1076\u001b[39m, \u001b[38;5;241m1400\u001b[39m, \u001b[38;5;241m1608\u001b[39m],\n\u001b[0;32m     14\u001b[0m     \u001b[38;5;124m\"\u001b[39m\u001b[38;5;124mPremium Subscribers\u001b[39m\u001b[38;5;124m\"\u001b[39m: [\u001b[38;5;241m445\u001b[39m, \u001b[38;5;241m567\u001b[39m, \u001b[38;5;241m675\u001b[39m, \u001b[38;5;241m770\u001b[39m, \u001b[38;5;241m892\u001b[39m, \u001b[38;5;241m1000\u001b[39m]\n\u001b[0;32m     15\u001b[0m }\n\u001b[1;32m---> 17\u001b[0m df \u001b[38;5;241m=\u001b[39m \u001b[43mpd\u001b[49m\u001b[38;5;241m.\u001b[39mDataFrame({\u001b[38;5;124m\"\u001b[39m\u001b[38;5;124mYear\u001b[39m\u001b[38;5;124m\"\u001b[39m: years, \u001b[38;5;124m\"\u001b[39m\u001b[38;5;124mUsers (M)\u001b[39m\u001b[38;5;124m\"\u001b[39m: data[option]})\n\u001b[0;32m     19\u001b[0m \u001b[38;5;66;03m# Create Chart\u001b[39;00m\n\u001b[0;32m     20\u001b[0m fig \u001b[38;5;241m=\u001b[39m px\u001b[38;5;241m.\u001b[39mline(df, x\u001b[38;5;241m=\u001b[39m\u001b[38;5;124m\"\u001b[39m\u001b[38;5;124mYear\u001b[39m\u001b[38;5;124m\"\u001b[39m, y\u001b[38;5;241m=\u001b[39m\u001b[38;5;124m\"\u001b[39m\u001b[38;5;124mUsers (M)\u001b[39m\u001b[38;5;124m\"\u001b[39m, title\u001b[38;5;241m=\u001b[39m\u001b[38;5;124mf\u001b[39m\u001b[38;5;124m\"\u001b[39m\u001b[38;5;132;01m{\u001b[39;00moption\u001b[38;5;132;01m}\u001b[39;00m\u001b[38;5;124m Growth Over Time\u001b[39m\u001b[38;5;124m\"\u001b[39m)\n",
      "\u001b[1;31mNameError\u001b[0m: name 'pd' is not defined"
     ]
    }
   ],
   "source": [
    "import pandas as pd\n",
    "import streamlit as st\n",
    "import plotly.express as px\n",
    "\n",
    "# Title\n",
    "st.title(\"Spotify User Growth Dashboard\")\n",
    "\n",
    "# Select Data\n",
    "option = st.selectbox(\"Choose Data\", [\"Ad-Supported Users\", \"Premium Subscribers\"])\n",
    "\n",
    "# Create Data\n",
    "years = [2019, 2020, 2021, 2022, 2023, 2024]\n",
    "data = {\n",
    "    \"Ad-Supported Users\": [546, 717, 874, 1076, 1400, 1608],\n",
    "    \"Premium Subscribers\": [445, 567, 675, 770, 892, 1000]\n",
    "}\n",
    "\n",
    "df = pd.DataFrame({\"Year\": years, \"Users (M)\": data[option]})\n",
    "\n",
    "# Create Chart\n",
    "fig = px.line(df, x=\"Year\", y=\"Users (M)\", title=f\"{option} Growth Over Time\")\n",
    "\n",
    "# Show Chart\n",
    "st.plotly_chart(fig)"
   ]
  }
 ],
 "metadata": {
  "kernelspec": {
   "display_name": "Python 3",
   "language": "python",
   "name": "python3"
  },
  "language_info": {
   "codemirror_mode": {
    "name": "ipython",
    "version": 3
   },
   "file_extension": ".py",
   "mimetype": "text/x-python",
   "name": "python",
   "nbconvert_exporter": "python",
   "pygments_lexer": "ipython3",
   "version": "3.12.9"
  }
 },
 "nbformat": 4,
 "nbformat_minor": 2
}
