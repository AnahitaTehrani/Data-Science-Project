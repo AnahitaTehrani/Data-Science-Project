{
 "cells": [
  {
   "cell_type": "markdown",
   "metadata": {},
   "source": [
    "Dynamic Visualization"
   ]
  },
  {
   "cell_type": "code",
   "execution_count": 2,
   "metadata": {},
   "outputs": [
    {
     "ename": "ValueError",
     "evalue": "Mime type rendering requires nbformat>=4.2.0 but it is not installed",
     "output_type": "error",
     "traceback": [
      "\u001b[31m---------------------------------------------------------------------------\u001b[39m",
      "\u001b[31mValueError\u001b[39m                                Traceback (most recent call last)",
      "\u001b[36mCell\u001b[39m\u001b[36m \u001b[39m\u001b[32mIn[2]\u001b[39m\u001b[32m, line 33\u001b[39m\n\u001b[32m     26\u001b[39m fig = px.line(df, x=\u001b[33m\"\u001b[39m\u001b[33mYear\u001b[39m\u001b[33m\"\u001b[39m, y=[\u001b[33m\"\u001b[39m\u001b[33mAd-Supported Users\u001b[39m\u001b[33m\"\u001b[39m, \u001b[33m\"\u001b[39m\u001b[33mPremium Subscribers\u001b[39m\u001b[33m\"\u001b[39m], \n\u001b[32m     27\u001b[39m               markers=\u001b[38;5;28;01mTrue\u001b[39;00m, \n\u001b[32m     28\u001b[39m               title=\u001b[33m\"\u001b[39m\u001b[33mAd-Supported Users vs. Premium Subscribers (2019-2024)\u001b[39m\u001b[33m\"\u001b[39m,\n\u001b[32m     29\u001b[39m               labels={\u001b[33m\"\u001b[39m\u001b[33mvalue\u001b[39m\u001b[33m\"\u001b[39m: \u001b[33m\"\u001b[39m\u001b[33mNumbers in Million\u001b[39m\u001b[33m\"\u001b[39m, \u001b[33m\"\u001b[39m\u001b[33mvariable\u001b[39m\u001b[33m\"\u001b[39m: \u001b[33m\"\u001b[39m\u001b[33mLegend\u001b[39m\u001b[33m\"\u001b[39m},\n\u001b[32m     30\u001b[39m               color_discrete_map=custom_colors)  \u001b[38;5;66;03m# Assign custom colors\u001b[39;00m\n\u001b[32m     32\u001b[39m \u001b[38;5;66;03m# Show plot\u001b[39;00m\n\u001b[32m---> \u001b[39m\u001b[32m33\u001b[39m \u001b[43mfig\u001b[49m\u001b[43m.\u001b[49m\u001b[43mshow\u001b[49m\u001b[43m(\u001b[49m\u001b[43m)\u001b[49m\n",
      "\u001b[36mFile \u001b[39m\u001b[32m~/anaconda3/envs/data_science_project_2025/lib/python3.12/site-packages/plotly/basedatatypes.py:3410\u001b[39m, in \u001b[36mBaseFigure.show\u001b[39m\u001b[34m(self, *args, **kwargs)\u001b[39m\n\u001b[32m   3377\u001b[39m \u001b[38;5;250m\u001b[39m\u001b[33;03m\"\"\"\u001b[39;00m\n\u001b[32m   3378\u001b[39m \u001b[33;03mShow a figure using either the default renderer(s) or the renderer(s)\u001b[39;00m\n\u001b[32m   3379\u001b[39m \u001b[33;03mspecified by the renderer argument\u001b[39;00m\n\u001b[32m   (...)\u001b[39m\u001b[32m   3406\u001b[39m \u001b[33;03mNone\u001b[39;00m\n\u001b[32m   3407\u001b[39m \u001b[33;03m\"\"\"\u001b[39;00m\n\u001b[32m   3408\u001b[39m \u001b[38;5;28;01mimport\u001b[39;00m\u001b[38;5;250m \u001b[39m\u001b[34;01mplotly\u001b[39;00m\u001b[34;01m.\u001b[39;00m\u001b[34;01mio\u001b[39;00m\u001b[38;5;250m \u001b[39m\u001b[38;5;28;01mas\u001b[39;00m\u001b[38;5;250m \u001b[39m\u001b[34;01mpio\u001b[39;00m\n\u001b[32m-> \u001b[39m\u001b[32m3410\u001b[39m \u001b[38;5;28;01mreturn\u001b[39;00m \u001b[43mpio\u001b[49m\u001b[43m.\u001b[49m\u001b[43mshow\u001b[49m\u001b[43m(\u001b[49m\u001b[38;5;28;43mself\u001b[39;49m\u001b[43m,\u001b[49m\u001b[43m \u001b[49m\u001b[43m*\u001b[49m\u001b[43margs\u001b[49m\u001b[43m,\u001b[49m\u001b[43m \u001b[49m\u001b[43m*\u001b[49m\u001b[43m*\u001b[49m\u001b[43mkwargs\u001b[49m\u001b[43m)\u001b[49m\n",
      "\u001b[36mFile \u001b[39m\u001b[32m~/anaconda3/envs/data_science_project_2025/lib/python3.12/site-packages/plotly/io/_renderers.py:394\u001b[39m, in \u001b[36mshow\u001b[39m\u001b[34m(fig, renderer, validate, **kwargs)\u001b[39m\n\u001b[32m    389\u001b[39m         \u001b[38;5;28;01mraise\u001b[39;00m \u001b[38;5;167;01mValueError\u001b[39;00m(\n\u001b[32m    390\u001b[39m             \u001b[33m\"\u001b[39m\u001b[33mMime type rendering requires ipython but it is not installed\u001b[39m\u001b[33m\"\u001b[39m\n\u001b[32m    391\u001b[39m         )\n\u001b[32m    393\u001b[39m     \u001b[38;5;28;01mif\u001b[39;00m \u001b[38;5;129;01mnot\u001b[39;00m nbformat \u001b[38;5;129;01mor\u001b[39;00m Version(nbformat.__version__) < Version(\u001b[33m\"\u001b[39m\u001b[33m4.2.0\u001b[39m\u001b[33m\"\u001b[39m):\n\u001b[32m--> \u001b[39m\u001b[32m394\u001b[39m         \u001b[38;5;28;01mraise\u001b[39;00m \u001b[38;5;167;01mValueError\u001b[39;00m(\n\u001b[32m    395\u001b[39m             \u001b[33m\"\u001b[39m\u001b[33mMime type rendering requires nbformat>=4.2.0 but it is not installed\u001b[39m\u001b[33m\"\u001b[39m\n\u001b[32m    396\u001b[39m         )\n\u001b[32m    398\u001b[39m     ipython_display.display(bundle, raw=\u001b[38;5;28;01mTrue\u001b[39;00m)\n\u001b[32m    400\u001b[39m \u001b[38;5;66;03m# external renderers\u001b[39;00m\n",
      "\u001b[31mValueError\u001b[39m: Mime type rendering requires nbformat>=4.2.0 but it is not installed"
     ]
    }
   ],
   "source": [
    "import plotly.express as px\n",
    "import pandas as pd\n",
    "\n",
    "# Create the data\n",
    "data = {\n",
    "    \"Year\": [2019, 2020, 2021, 2022, 2023, 2024],\n",
    "    \"Ad-Supported Users (M)\": [546, 717, 874, 1076, 1400, 1608],\n",
    "    \"Premium Subscribers (M)\": [445, 567, 675, 770, 892, 1000]\n",
    "}\n",
    "\n",
    "df = pd.DataFrame(data)\n",
    "\n",
    "# Rename columns\n",
    "df = df.rename(columns={\n",
    "    \"Ad-Supported Users (M)\": \"Ad-Supported Users\",\n",
    "    \"Premium Subscribers (M)\": \"Premium Subscribers\"\n",
    "})\n",
    "\n",
    "# Define custom colors\n",
    "custom_colors = {\n",
    "    \"Ad-Supported Users\": \"#00bfff\",  \n",
    "    \"Premium Subscribers\": \"#ff1493\"  \n",
    "}\n",
    "\n",
    "# Create line chart\n",
    "fig = px.line(df, x=\"Year\", y=[\"Ad-Supported Users\", \"Premium Subscribers\"], \n",
    "              markers=True, \n",
    "              title=\"Ad-Supported Users vs. Premium Subscribers (2019-2024)\",\n",
    "              labels={\"value\": \"Numbers in Million\", \"variable\": \"Legend\"},\n",
    "              color_discrete_map=custom_colors)  # Assign custom colors\n",
    "\n",
    "# Show plot\n",
    "fig.show()\n"
   ]
  }
 ],
 "metadata": {
  "kernelspec": {
   "display_name": "data_science_project_2025",
   "language": "python",
   "name": "python3"
  },
  "language_info": {
   "codemirror_mode": {
    "name": "ipython",
    "version": 3
   },
   "file_extension": ".py",
   "mimetype": "text/x-python",
   "name": "python",
   "nbconvert_exporter": "python",
   "pygments_lexer": "ipython3",
   "version": "3.12.9"
  }
 },
 "nbformat": 4,
 "nbformat_minor": 2
}
