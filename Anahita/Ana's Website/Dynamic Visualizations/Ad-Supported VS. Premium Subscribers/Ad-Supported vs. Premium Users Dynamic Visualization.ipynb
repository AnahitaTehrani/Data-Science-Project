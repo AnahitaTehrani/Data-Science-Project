{
 "cells": [
  {
   "cell_type": "markdown",
   "metadata": {},
   "source": [
    "Dynamic Visualization"
   ]
  },
  {
   "cell_type": "code",
   "execution_count": null,
   "metadata": {},
   "outputs": [],
   "source": [
    "import plotly.express as px\n",
    "import pandas as pd\n",
    "\n",
    "# Create the data\n",
    "data = {\n",
    "    \"Year\": [2019, 2020, 2021, 2022, 2023, 2024],\n",
    "    \"Ad-Supported Users (M)\": [546, 717, 874, 1076, 1400, 1608],\n",
    "    \"Premium Subscribers (M)\": [445, 567, 675, 770, 892, 1000]\n",
    "}\n",
    "\n",
    "df = pd.DataFrame(data)\n",
    "\n",
    "# Rename columns\n",
    "df = df.rename(columns={\n",
    "    \"Ad-Supported Users (M)\": \"Ad-Supported Users\",\n",
    "    \"Premium Subscribers (M)\": \"Premium Subscribers\"\n",
    "})\n",
    "\n",
    "# Define custom colors\n",
    "custom_colors = {\n",
    "    \"Ad-Supported Users\": \"#00bfff\",  \n",
    "    \"Premium Subscribers\": \"#ff1493\"  \n",
    "}\n",
    "\n",
    "# Create line chart\n",
    "fig = px.line(df, x=\"Year\", y=[\"Ad-Supported Users\", \"Premium Subscribers\"], \n",
    "              markers=True, \n",
    "              title=\"Ad-Supported Users vs. Premium Subscribers (2019-2024)\",\n",
    "              labels={\"value\": \"Numbers in Million\", \"variable\": \"Legend\"},\n",
    "              color_discrete_map=custom_colors)  # Assign custom colors\n",
    "\n",
    "# Show plot\n",
    "fig.show()\n"
   ]
  }
 ],
 "metadata": {
  "kernelspec": {
   "display_name": "Python 3",
   "language": "python",
   "name": "python3"
  },
  "language_info": {
   "codemirror_mode": {
    "name": "ipython",
    "version": 3
   },
   "file_extension": ".py",
   "mimetype": "text/x-python",
   "name": "python",
   "nbconvert_exporter": "python",
   "pygments_lexer": "ipython3",
   "version": "3.12.9"
  }
 },
 "nbformat": 4,
 "nbformat_minor": 2
}
